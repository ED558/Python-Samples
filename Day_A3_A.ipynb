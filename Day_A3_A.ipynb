{
 "cells": [
  {
   "cell_type": "markdown",
   "metadata": {},
   "source": [
    "## Module submission header\n",
    "### Submission preparation instructions \n",
    "_Completion of this header is mandatory, subject to a 2-point deduction to the assignment._ Only add plain text in the designated areas, i.e., replacing the relevant 'NA's. You must fill out all group member Names and Drexel email addresses in the below markdown list, under header __Module submission group__. It is required to fill out descriptive notes pertaining to any tutoring support received in the completion of this submission under the __Additional submission comments__ section at the bottom of the header. If no tutoring support was received, leave NA in place. You may as well list other optional comments pertaining to the submission at bottom. _Any distruption of this header's formatting will make your group liable to the 2-point deduction._\n",
    "\n",
    "### Module submission group\n",
    "- Group member 1\n",
    "    - Name: Edward Day\n",
    "    - Email: Edward.Day1337@gmail.com\n",
    "- Group member 2\n",
    "    - Name: Sahar Siddiqi\n",
    "    - Email: \n",
    "- Group member 3\n",
    "    - Name: NA\n",
    "    - Email: NA\n",
    "- Group member 4\n",
    "    - Name: NA\n",
    "    - Email: NA\n",
    "\n",
    "### Additional submission comments\n",
    "- Tutoring support received: Ali Jazayeri , Jacob Rosen , Palash Pandey \n",
    "- Other (other):Sahar Siddiqi ss5226@drexel.edu"
   ]
  },
  {
   "cell_type": "markdown",
   "metadata": {},
   "source": [
    "# Assignment group 3: Probabilistic modeling and prediction"
   ]
  },
  {
   "cell_type": "markdown",
   "metadata": {},
   "source": [
    "## Module A _(55 pts)_ Optimizing for predicted separation\n",
    "__Data.__ For this module we'll be working with the basic baseball player heights and weights from the lecture notes. These are packaged in the following location:\n",
    "\n",
    "- `\"./data/baseball_heightweight.csv\"`\n",
    "\n",
    "__Overview.__ The purpose of this module is to provide experience with optimization and to view/investigate a different optimizable functions (from error). In the __Chapter 5.__ lecture notes we investigated the sum of squared errors as a function of (linear) model parameters. This made the goal of optimization (executed through gradient descent) into a 'fitting' procedure, i.e., describing a pattern that data follow.\n",
    "\n",
    "Another way we can use a line is as a 'separator': supposing some data $x_1, \\cdots, x_n$ have labels $y_1, \\cdots, y_n$ falling into two classes (coded as $\\pm 1$), which set of line-defining $w$ and $b$ parameters separate the points the best. Check out the picture  below for an intution (note: their $b$ is our $-b$).\n",
    "\n",
    "Note: even though we're talking about 'lines', and actually working with true, 2-dimensional lines throughout this module, it's important to think/code throughout this module with the expectation that each data point $x_i$ will have $m$ (potentially greater than 2) dimensions. When $m>3$, a 'line' technically refers to a plane, but after we leave the comfort of 3-dimensionality our 'lines' are technically _hyperplanes_, for which we have little experiential intuition. Hence, we'll adopt the terminology 'line' throughout, since this provides the strongest grounding of intuition."
   ]
  },
  {
   "cell_type": "markdown",
   "metadata": {},
   "source": [
    "![SVM Margin](./images/SVM_margin.png)"
   ]
  },
  {
   "cell_type": "code",
   "execution_count": 2,
   "metadata": {},
   "outputs": [],
   "source": [
    "import pandas as pd\n",
    "import numpy as np\n",
    "import matplotlib.pyplot as plt"
   ]
  },
  {
   "cell_type": "markdown",
   "metadata": {},
   "source": [
    "__A1.__ _(7 pts_) To get things started: \n",
    "\n",
    "1. load the baseball player data with pandas into a dataframe called `bball`;\n",
    "2. filter `bball` to contain only those rows that correspond to shortstops and catchers;\n",
    "3. create an `.array()` called `y_bball` of labels, containing a `1` for each catcher and a `-1` for each shortstop;\n",
    "4. filter the remaining rows of `bball` to only the `Height` and `Weight` columns; and\n",
    "5. standardize the columns of `bball` and exhibit the first 10 rows."
   ]
  },
  {
   "cell_type": "code",
   "execution_count": 3,
   "metadata": {},
   "outputs": [
    {
     "data": {
      "text/html": [
       "<div>\n",
       "<style scoped>\n",
       "    .dataframe tbody tr th:only-of-type {\n",
       "        vertical-align: middle;\n",
       "    }\n",
       "\n",
       "    .dataframe tbody tr th {\n",
       "        vertical-align: top;\n",
       "    }\n",
       "\n",
       "    .dataframe thead th {\n",
       "        text-align: right;\n",
       "    }\n",
       "</style>\n",
       "<table border=\"1\" class=\"dataframe\">\n",
       "  <thead>\n",
       "    <tr style=\"text-align: right;\">\n",
       "      <th></th>\n",
       "      <th>Name</th>\n",
       "      <th>Team</th>\n",
       "      <th>Position</th>\n",
       "      <th>Height</th>\n",
       "      <th>Weight</th>\n",
       "      <th>Age</th>\n",
       "    </tr>\n",
       "  </thead>\n",
       "  <tbody>\n",
       "    <tr>\n",
       "      <td>0</td>\n",
       "      <td>Adam_Donachie</td>\n",
       "      <td>BAL</td>\n",
       "      <td>Catcher</td>\n",
       "      <td>74</td>\n",
       "      <td>180.0</td>\n",
       "      <td>22.99</td>\n",
       "    </tr>\n",
       "    <tr>\n",
       "      <td>1</td>\n",
       "      <td>Paul_Bako</td>\n",
       "      <td>BAL</td>\n",
       "      <td>Catcher</td>\n",
       "      <td>74</td>\n",
       "      <td>215.0</td>\n",
       "      <td>34.69</td>\n",
       "    </tr>\n",
       "    <tr>\n",
       "      <td>2</td>\n",
       "      <td>Ramon_Hernandez</td>\n",
       "      <td>BAL</td>\n",
       "      <td>Catcher</td>\n",
       "      <td>72</td>\n",
       "      <td>210.0</td>\n",
       "      <td>30.78</td>\n",
       "    </tr>\n",
       "    <tr>\n",
       "      <td>3</td>\n",
       "      <td>Kevin_Millar</td>\n",
       "      <td>BAL</td>\n",
       "      <td>First_Baseman</td>\n",
       "      <td>72</td>\n",
       "      <td>210.0</td>\n",
       "      <td>35.43</td>\n",
       "    </tr>\n",
       "    <tr>\n",
       "      <td>4</td>\n",
       "      <td>Chris_Gomez</td>\n",
       "      <td>BAL</td>\n",
       "      <td>First_Baseman</td>\n",
       "      <td>73</td>\n",
       "      <td>188.0</td>\n",
       "      <td>35.71</td>\n",
       "    </tr>\n",
       "    <tr>\n",
       "      <td>...</td>\n",
       "      <td>...</td>\n",
       "      <td>...</td>\n",
       "      <td>...</td>\n",
       "      <td>...</td>\n",
       "      <td>...</td>\n",
       "      <td>...</td>\n",
       "    </tr>\n",
       "    <tr>\n",
       "      <td>1029</td>\n",
       "      <td>Brad_Thompson</td>\n",
       "      <td>STL</td>\n",
       "      <td>Relief_Pitcher</td>\n",
       "      <td>73</td>\n",
       "      <td>190.0</td>\n",
       "      <td>25.08</td>\n",
       "    </tr>\n",
       "    <tr>\n",
       "      <td>1030</td>\n",
       "      <td>Tyler_Johnson</td>\n",
       "      <td>STL</td>\n",
       "      <td>Relief_Pitcher</td>\n",
       "      <td>74</td>\n",
       "      <td>180.0</td>\n",
       "      <td>25.73</td>\n",
       "    </tr>\n",
       "    <tr>\n",
       "      <td>1031</td>\n",
       "      <td>Chris_Narveson</td>\n",
       "      <td>STL</td>\n",
       "      <td>Relief_Pitcher</td>\n",
       "      <td>75</td>\n",
       "      <td>205.0</td>\n",
       "      <td>25.19</td>\n",
       "    </tr>\n",
       "    <tr>\n",
       "      <td>1032</td>\n",
       "      <td>Randy_Keisler</td>\n",
       "      <td>STL</td>\n",
       "      <td>Relief_Pitcher</td>\n",
       "      <td>75</td>\n",
       "      <td>190.0</td>\n",
       "      <td>31.01</td>\n",
       "    </tr>\n",
       "    <tr>\n",
       "      <td>1033</td>\n",
       "      <td>Josh_Kinney</td>\n",
       "      <td>STL</td>\n",
       "      <td>Relief_Pitcher</td>\n",
       "      <td>73</td>\n",
       "      <td>195.0</td>\n",
       "      <td>27.92</td>\n",
       "    </tr>\n",
       "  </tbody>\n",
       "</table>\n",
       "<p>1034 rows × 6 columns</p>\n",
       "</div>"
      ],
      "text/plain": [
       "                 Name Team        Position  Height  Weight    Age\n",
       "0       Adam_Donachie  BAL         Catcher      74   180.0  22.99\n",
       "1           Paul_Bako  BAL         Catcher      74   215.0  34.69\n",
       "2     Ramon_Hernandez  BAL         Catcher      72   210.0  30.78\n",
       "3        Kevin_Millar  BAL   First_Baseman      72   210.0  35.43\n",
       "4         Chris_Gomez  BAL   First_Baseman      73   188.0  35.71\n",
       "...               ...  ...             ...     ...     ...    ...\n",
       "1029    Brad_Thompson  STL  Relief_Pitcher      73   190.0  25.08\n",
       "1030    Tyler_Johnson  STL  Relief_Pitcher      74   180.0  25.73\n",
       "1031   Chris_Narveson  STL  Relief_Pitcher      75   205.0  25.19\n",
       "1032    Randy_Keisler  STL  Relief_Pitcher      75   190.0  31.01\n",
       "1033      Josh_Kinney  STL  Relief_Pitcher      73   195.0  27.92\n",
       "\n",
       "[1034 rows x 6 columns]"
      ]
     },
     "execution_count": 3,
     "metadata": {},
     "output_type": "execute_result"
    }
   ],
   "source": [
    "bball = pd.read_csv(\"./data/baseball_heightweight.csv\" , sep = \",\")\n",
    "bball\n"
   ]
  },
  {
   "cell_type": "code",
   "execution_count": 3,
   "metadata": {},
   "outputs": [
    {
     "name": "stdout",
     "output_type": "stream",
     "text": [
      "                 Name Team   Position  Height  Weight    Age\n",
      "0       Adam_Donachie  BAL    Catcher      74   180.0  22.99\n",
      "1           Paul_Bako  BAL    Catcher      74   215.0  34.69\n",
      "2     Ramon_Hernandez  BAL    Catcher      72   210.0  30.78\n",
      "6       Miguel_Tejada  BAL  Shortstop      69   209.0  30.77\n",
      "35    A.J._Pierzynski  CWS    Catcher      75   245.0  30.17\n",
      "...               ...  ...        ...     ...     ...    ...\n",
      "969   Eliezer_Alfonzo   SF    Catcher      72   223.0  28.06\n",
      "974      Omar_Vizquel   SF  Shortstop      69   175.0  39.85\n",
      "1002     Gary_Bennett  STL    Catcher      72   208.0  34.87\n",
      "1003    Yadier_Molina  STL    Catcher      71   225.0  24.63\n",
      "1008   David_Eckstein  STL  Shortstop      67   165.0  32.11\n",
      "\n",
      "[128 rows x 6 columns]\n"
     ]
    }
   ],
   "source": [
    "filt = bball.loc[(bball['Position']=='Catcher')| (bball['Position']=='Shortstop')]\n",
    "print(filt)"
   ]
  },
  {
   "cell_type": "code",
   "execution_count": 4,
   "metadata": {
    "scrolled": true
   },
   "outputs": [
    {
     "name": "stdout",
     "output_type": "stream",
     "text": [
      "[1 1 1 -1 1 1 -1 -1 1 1 1 -1 -1 1 1 1 -1 -1 1 1 -1 1 1 1 -1 -1 -1 1 1 -1 1\n",
      " 1 -1 -1 -1 1 1 -1 -1 1 1 1 -1 1 1 -1 -1 1 1 1 1 -1 -1 1 1 -1 -1 1 1 1 -1\n",
      " 1 1 -1 -1 1 1 1 -1 1 1 -1 -1 1 1 -1 -1 1 1 1 -1 -1 1 1 1 -1 -1 1 1 -1 -1\n",
      " 1 1 1 -1 1 1 -1 1 1 1 1 -1 1 1 1 1 -1 -1 -1 1 1 -1 -1 1 1 -1 -1 -1 1 1 -1\n",
      " 1 1 -1 1 1 -1]\n"
     ]
    }
   ],
   "source": [
    "\n",
    "ybsall = np.array(filt['Position'])\n",
    "ybsall[ybsall =='Catcher'] = 1\n",
    "ybsall[ybsall =='Shortstop'] = -1\n",
    "print(ybsall)"
   ]
  },
  {
   "cell_type": "code",
   "execution_count": null,
   "metadata": {},
   "outputs": [],
   "source": []
  },
  {
   "cell_type": "code",
   "execution_count": 5,
   "metadata": {},
   "outputs": [],
   "source": [
    "def standardize(bball):\n",
    "    mean = np.mean(bball)\n",
    "    stdev = np.std(bball)\n",
    "    \n",
    "    standardized_data = (bball - mean) / stdev\n",
    "    \n",
    "    return standardized_data"
   ]
  },
  {
   "cell_type": "code",
   "execution_count": 6,
   "metadata": {
    "scrolled": false
   },
   "outputs": [
    {
     "data": {
      "text/html": [
       "<div>\n",
       "<style scoped>\n",
       "    .dataframe tbody tr th:only-of-type {\n",
       "        vertical-align: middle;\n",
       "    }\n",
       "\n",
       "    .dataframe tbody tr th {\n",
       "        vertical-align: top;\n",
       "    }\n",
       "\n",
       "    .dataframe thead th {\n",
       "        text-align: right;\n",
       "    }\n",
       "</style>\n",
       "<table border=\"1\" class=\"dataframe\">\n",
       "  <thead>\n",
       "    <tr style=\"text-align: right;\">\n",
       "      <th></th>\n",
       "      <th>Height</th>\n",
       "      <th>Weight</th>\n",
       "    </tr>\n",
       "  </thead>\n",
       "  <tbody>\n",
       "    <tr>\n",
       "      <td>0</td>\n",
       "      <td>74</td>\n",
       "      <td>180.0</td>\n",
       "    </tr>\n",
       "    <tr>\n",
       "      <td>1</td>\n",
       "      <td>74</td>\n",
       "      <td>215.0</td>\n",
       "    </tr>\n",
       "    <tr>\n",
       "      <td>2</td>\n",
       "      <td>72</td>\n",
       "      <td>210.0</td>\n",
       "    </tr>\n",
       "    <tr>\n",
       "      <td>3</td>\n",
       "      <td>72</td>\n",
       "      <td>210.0</td>\n",
       "    </tr>\n",
       "    <tr>\n",
       "      <td>4</td>\n",
       "      <td>73</td>\n",
       "      <td>188.0</td>\n",
       "    </tr>\n",
       "    <tr>\n",
       "      <td>...</td>\n",
       "      <td>...</td>\n",
       "      <td>...</td>\n",
       "    </tr>\n",
       "    <tr>\n",
       "      <td>1029</td>\n",
       "      <td>73</td>\n",
       "      <td>190.0</td>\n",
       "    </tr>\n",
       "    <tr>\n",
       "      <td>1030</td>\n",
       "      <td>74</td>\n",
       "      <td>180.0</td>\n",
       "    </tr>\n",
       "    <tr>\n",
       "      <td>1031</td>\n",
       "      <td>75</td>\n",
       "      <td>205.0</td>\n",
       "    </tr>\n",
       "    <tr>\n",
       "      <td>1032</td>\n",
       "      <td>75</td>\n",
       "      <td>190.0</td>\n",
       "    </tr>\n",
       "    <tr>\n",
       "      <td>1033</td>\n",
       "      <td>73</td>\n",
       "      <td>195.0</td>\n",
       "    </tr>\n",
       "  </tbody>\n",
       "</table>\n",
       "<p>1034 rows × 2 columns</p>\n",
       "</div>"
      ],
      "text/plain": [
       "      Height  Weight\n",
       "0         74   180.0\n",
       "1         74   215.0\n",
       "2         72   210.0\n",
       "3         72   210.0\n",
       "4         73   188.0\n",
       "...      ...     ...\n",
       "1029      73   190.0\n",
       "1030      74   180.0\n",
       "1031      75   205.0\n",
       "1032      75   190.0\n",
       "1033      73   195.0\n",
       "\n",
       "[1034 rows x 2 columns]"
      ]
     },
     "execution_count": 6,
     "metadata": {},
     "output_type": "execute_result"
    }
   ],
   "source": [
    "bball.filter(['Height', 'Weight'])\n"
   ]
  },
  {
   "cell_type": "code",
   "execution_count": 7,
   "metadata": {},
   "outputs": [
    {
     "data": {
      "text/html": [
       "<div>\n",
       "<style scoped>\n",
       "    .dataframe tbody tr th:only-of-type {\n",
       "        vertical-align: middle;\n",
       "    }\n",
       "\n",
       "    .dataframe tbody tr th {\n",
       "        vertical-align: top;\n",
       "    }\n",
       "\n",
       "    .dataframe thead th {\n",
       "        text-align: right;\n",
       "    }\n",
       "</style>\n",
       "<table border=\"1\" class=\"dataframe\">\n",
       "  <thead>\n",
       "    <tr style=\"text-align: right;\">\n",
       "      <th></th>\n",
       "      <th>Name</th>\n",
       "      <th>Team</th>\n",
       "      <th>Position</th>\n",
       "      <th>Height</th>\n",
       "      <th>Weight</th>\n",
       "      <th>Age</th>\n",
       "    </tr>\n",
       "  </thead>\n",
       "  <tbody>\n",
       "    <tr>\n",
       "      <td>0</td>\n",
       "      <td>Adam_Donachie</td>\n",
       "      <td>BAL</td>\n",
       "      <td>Catcher</td>\n",
       "      <td>74</td>\n",
       "      <td>180.0</td>\n",
       "      <td>22.99</td>\n",
       "    </tr>\n",
       "    <tr>\n",
       "      <td>1</td>\n",
       "      <td>Paul_Bako</td>\n",
       "      <td>BAL</td>\n",
       "      <td>Catcher</td>\n",
       "      <td>74</td>\n",
       "      <td>215.0</td>\n",
       "      <td>34.69</td>\n",
       "    </tr>\n",
       "    <tr>\n",
       "      <td>2</td>\n",
       "      <td>Ramon_Hernandez</td>\n",
       "      <td>BAL</td>\n",
       "      <td>Catcher</td>\n",
       "      <td>72</td>\n",
       "      <td>210.0</td>\n",
       "      <td>30.78</td>\n",
       "    </tr>\n",
       "    <tr>\n",
       "      <td>3</td>\n",
       "      <td>Kevin_Millar</td>\n",
       "      <td>BAL</td>\n",
       "      <td>First_Baseman</td>\n",
       "      <td>72</td>\n",
       "      <td>210.0</td>\n",
       "      <td>35.43</td>\n",
       "    </tr>\n",
       "    <tr>\n",
       "      <td>4</td>\n",
       "      <td>Chris_Gomez</td>\n",
       "      <td>BAL</td>\n",
       "      <td>First_Baseman</td>\n",
       "      <td>73</td>\n",
       "      <td>188.0</td>\n",
       "      <td>35.71</td>\n",
       "    </tr>\n",
       "    <tr>\n",
       "      <td>...</td>\n",
       "      <td>...</td>\n",
       "      <td>...</td>\n",
       "      <td>...</td>\n",
       "      <td>...</td>\n",
       "      <td>...</td>\n",
       "      <td>...</td>\n",
       "    </tr>\n",
       "    <tr>\n",
       "      <td>1029</td>\n",
       "      <td>Brad_Thompson</td>\n",
       "      <td>STL</td>\n",
       "      <td>Relief_Pitcher</td>\n",
       "      <td>73</td>\n",
       "      <td>190.0</td>\n",
       "      <td>25.08</td>\n",
       "    </tr>\n",
       "    <tr>\n",
       "      <td>1030</td>\n",
       "      <td>Tyler_Johnson</td>\n",
       "      <td>STL</td>\n",
       "      <td>Relief_Pitcher</td>\n",
       "      <td>74</td>\n",
       "      <td>180.0</td>\n",
       "      <td>25.73</td>\n",
       "    </tr>\n",
       "    <tr>\n",
       "      <td>1031</td>\n",
       "      <td>Chris_Narveson</td>\n",
       "      <td>STL</td>\n",
       "      <td>Relief_Pitcher</td>\n",
       "      <td>75</td>\n",
       "      <td>205.0</td>\n",
       "      <td>25.19</td>\n",
       "    </tr>\n",
       "    <tr>\n",
       "      <td>1032</td>\n",
       "      <td>Randy_Keisler</td>\n",
       "      <td>STL</td>\n",
       "      <td>Relief_Pitcher</td>\n",
       "      <td>75</td>\n",
       "      <td>190.0</td>\n",
       "      <td>31.01</td>\n",
       "    </tr>\n",
       "    <tr>\n",
       "      <td>1033</td>\n",
       "      <td>Josh_Kinney</td>\n",
       "      <td>STL</td>\n",
       "      <td>Relief_Pitcher</td>\n",
       "      <td>73</td>\n",
       "      <td>195.0</td>\n",
       "      <td>27.92</td>\n",
       "    </tr>\n",
       "  </tbody>\n",
       "</table>\n",
       "<p>1034 rows × 6 columns</p>\n",
       "</div>"
      ],
      "text/plain": [
       "                 Name Team        Position  Height  Weight    Age\n",
       "0       Adam_Donachie  BAL         Catcher      74   180.0  22.99\n",
       "1           Paul_Bako  BAL         Catcher      74   215.0  34.69\n",
       "2     Ramon_Hernandez  BAL         Catcher      72   210.0  30.78\n",
       "3        Kevin_Millar  BAL   First_Baseman      72   210.0  35.43\n",
       "4         Chris_Gomez  BAL   First_Baseman      73   188.0  35.71\n",
       "...               ...  ...             ...     ...     ...    ...\n",
       "1029    Brad_Thompson  STL  Relief_Pitcher      73   190.0  25.08\n",
       "1030    Tyler_Johnson  STL  Relief_Pitcher      74   180.0  25.73\n",
       "1031   Chris_Narveson  STL  Relief_Pitcher      75   205.0  25.19\n",
       "1032    Randy_Keisler  STL  Relief_Pitcher      75   190.0  31.01\n",
       "1033      Josh_Kinney  STL  Relief_Pitcher      73   195.0  27.92\n",
       "\n",
       "[1034 rows x 6 columns]"
      ]
     },
     "execution_count": 7,
     "metadata": {},
     "output_type": "execute_result"
    }
   ],
   "source": [
    "bball"
   ]
  },
  {
   "cell_type": "code",
   "execution_count": 8,
   "metadata": {
    "scrolled": false
   },
   "outputs": [
    {
     "name": "stderr",
     "output_type": "stream",
     "text": [
      "C:\\Users\\Beth\\Anaconda3\\lib\\site-packages\\ipykernel_launcher.py:1: SettingWithCopyWarning: \n",
      "A value is trying to be set on a copy of a slice from a DataFrame.\n",
      "Try using .loc[row_indexer,col_indexer] = value instead\n",
      "\n",
      "See the caveats in the documentation: http://pandas.pydata.org/pandas-docs/stable/user_guide/indexing.html#returning-a-view-versus-a-copy\n",
      "  \"\"\"Entry point for launching an IPython kernel.\n",
      "C:\\Users\\Beth\\Anaconda3\\lib\\site-packages\\ipykernel_launcher.py:2: SettingWithCopyWarning: \n",
      "A value is trying to be set on a copy of a slice from a DataFrame.\n",
      "Try using .loc[row_indexer,col_indexer] = value instead\n",
      "\n",
      "See the caveats in the documentation: http://pandas.pydata.org/pandas-docs/stable/user_guide/indexing.html#returning-a-view-versus-a-copy\n",
      "  \n"
     ]
    },
    {
     "data": {
      "text/html": [
       "<div>\n",
       "<style scoped>\n",
       "    .dataframe tbody tr th:only-of-type {\n",
       "        vertical-align: middle;\n",
       "    }\n",
       "\n",
       "    .dataframe tbody tr th {\n",
       "        vertical-align: top;\n",
       "    }\n",
       "\n",
       "    .dataframe thead th {\n",
       "        text-align: right;\n",
       "    }\n",
       "</style>\n",
       "<table border=\"1\" class=\"dataframe\">\n",
       "  <thead>\n",
       "    <tr style=\"text-align: right;\">\n",
       "      <th></th>\n",
       "      <th>Height</th>\n",
       "      <th>Weight</th>\n",
       "    </tr>\n",
       "  </thead>\n",
       "  <tbody>\n",
       "    <tr>\n",
       "      <td>0</td>\n",
       "      <td>0.890083</td>\n",
       "      <td>-0.848435</td>\n",
       "    </tr>\n",
       "    <tr>\n",
       "      <td>1</td>\n",
       "      <td>0.890083</td>\n",
       "      <td>1.051109</td>\n",
       "    </tr>\n",
       "    <tr>\n",
       "      <td>2</td>\n",
       "      <td>-0.216040</td>\n",
       "      <td>0.779746</td>\n",
       "    </tr>\n",
       "    <tr>\n",
       "      <td>6</td>\n",
       "      <td>-1.875224</td>\n",
       "      <td>0.725473</td>\n",
       "    </tr>\n",
       "    <tr>\n",
       "      <td>35</td>\n",
       "      <td>1.443145</td>\n",
       "      <td>2.679290</td>\n",
       "    </tr>\n",
       "    <tr>\n",
       "      <td>36</td>\n",
       "      <td>1.443145</td>\n",
       "      <td>2.407927</td>\n",
       "    </tr>\n",
       "    <tr>\n",
       "      <td>39</td>\n",
       "      <td>-0.769101</td>\n",
       "      <td>-1.119798</td>\n",
       "    </tr>\n",
       "    <tr>\n",
       "      <td>40</td>\n",
       "      <td>0.890083</td>\n",
       "      <td>0.182746</td>\n",
       "    </tr>\n",
       "    <tr>\n",
       "      <td>68</td>\n",
       "      <td>0.890083</td>\n",
       "      <td>1.322473</td>\n",
       "    </tr>\n",
       "    <tr>\n",
       "      <td>69</td>\n",
       "      <td>-0.216040</td>\n",
       "      <td>-0.848435</td>\n",
       "    </tr>\n",
       "  </tbody>\n",
       "</table>\n",
       "</div>"
      ],
      "text/plain": [
       "      Height    Weight\n",
       "0   0.890083 -0.848435\n",
       "1   0.890083  1.051109\n",
       "2  -0.216040  0.779746\n",
       "6  -1.875224  0.725473\n",
       "35  1.443145  2.679290\n",
       "36  1.443145  2.407927\n",
       "39 -0.769101 -1.119798\n",
       "40  0.890083  0.182746\n",
       "68  0.890083  1.322473\n",
       "69 -0.216040 -0.848435"
      ]
     },
     "execution_count": 8,
     "metadata": {},
     "output_type": "execute_result"
    }
   ],
   "source": [
    "s_heights = filt[\"Height\"] = standardize(filt[\"Height\"])\n",
    "s_weights = filt[\"Weight\"] = standardize(filt[\"Weight\"])\n",
    "x = filt[[\"Height\",\"Weight\"]]\n",
    "x.head(10)\n"
   ]
  },
  {
   "cell_type": "markdown",
   "metadata": {},
   "source": [
    "bball[\"Height\"] = standardize(bball[\"Height\"])\n",
    "bball[\"Weight\"] = standardize(bball[\"Weight\"])\n",
    "bball[\"Age\"] = standardize(bball[\"Age\"])\n",
    "\n",
    "bball.head(11)"
   ]
  },
  {
   "cell_type": "markdown",
   "metadata": {},
   "source": [
    "__A2.__ _(5 pts)_ Since our goal with this problem will be to draw a line that separates the catchers from the shortstops, write and execute a function called \n",
    "\n",
    "- `plot_data_boundary(data, y)` \n",
    "\n",
    "that creates a scatter plot of the standardized heights and weights where the points are color coded with shortstops as black circles and catchers as red squares. In the response box below, disucss how well you think a line can separate these data."
   ]
  },
  {
   "cell_type": "markdown",
   "metadata": {},
   "source": [
    "_Response._ "
   ]
  },
  {
   "cell_type": "code",
   "execution_count": 9,
   "metadata": {},
   "outputs": [],
   "source": [
    "def plot_data_boundary(data, y):\n",
    "    \n",
    "    plt.plot(data.iloc[y==1,0],data.iloc[y==1,1],'rs', label = 'Catcher')\n",
    "    plt.plot(data.iloc[y==-1,0],data.iloc[y==-1,1],'ko', label = 'Shortstop')\n",
    "    plt.legend()\n",
    "    plt.xlabel('Standardized Heights')\n",
    "    plt.ylabel('Standardized Weights')\n",
    "    plt.title('Heights and Weights of S.S and Catchers')\n",
    "    "
   ]
  },
  {
   "cell_type": "code",
   "execution_count": 10,
   "metadata": {},
   "outputs": [
    {
     "data": {
      "image/png": "[encoded data removed]",
      "text/plain": [
       "<Figure size 432x288 with 1 Axes>"
      ]
     },
     "metadata": {
      "needs_background": "light"
     },
     "output_type": "display_data"
    }
   ],
   "source": [
    "plot_data_boundary(x, ybsall)"
   ]
  },
  {
   "cell_type": "markdown",
   "metadata": {},
   "source": [
    "__A3.__ _(5 pts)_ The way we'll be drawing lines (hyperplanes) in this problem uses what's called the 'standard form'. Supposing we have vectors (rows) of features (columns) $x = [x_1, \\cdots, x_m]$, a linear relationship is defined by a vector of weights $w = [w_1,\\cdots,w_m]$ and an intercept $b$ in the form:\n",
    "$$\n",
    "w\\cdot x + b = 0\n",
    "$$\n",
    "Since our data only has two columns, we can re-arrange into slope-intercept form:\n",
    "$$\n",
    "x_2 = -\\frac{w_1}{w_2} x_1 - \\frac{b}{w_2}\n",
    "$$\n",
    "to conveniently plot a line in standard form. \n",
    "\n",
    "So, modify your `plot_data_boundary()` function to accept a `w` (a vector) and `b` (a scalar) arguments and plot the corresponding line over the range of $x_1$ values using the slope-intercept form above. \n",
    "\n",
    "When complete, select you own $w$ and $b$ parameters and use your function to exhibit a corresponding line over the problem's data. Then, disucuss how well the line separates the two (catcher and shortstop) classes in the response box below."
   ]
  },
  {
   "cell_type": "markdown",
   "metadata": {},
   "source": [
    "_Response._ "
   ]
  },
  {
   "cell_type": "code",
   "execution_count": 11,
   "metadata": {},
   "outputs": [],
   "source": [
    "#to do this, we are simply coding the formual of x2. \n",
    "def plot_data_boundary(data,y,w,b):\n",
    "    \n",
    "    plt.plot(data.iloc[y==1,0],data.iloc[y==1,1],'rs', label = 'Catcher')\n",
    "    plt.plot(data.iloc[y==-1,0],data.iloc[y==-1,1],'ko', label = 'Shortstop')\n",
    "    plt.legend()\n",
    "    plt.xlabel('Standardized Heights')\n",
    "    plt.ylabel('Standardized Weights')\n",
    "    plt.title('Heights and Weights of S.S and Catchers')\n",
    "    plt.plot(data['Weight'], w[0]/w[1]*data['Weight']-(b/w[1]), 'b')"
   ]
  },
  {
   "cell_type": "code",
   "execution_count": 12,
   "metadata": {},
   "outputs": [
    {
     "data": {
      "image/png": "[encoded data removed]",
      "text/plain": [
       "<Figure size 432x288 with 1 Axes>"
      ]
     },
     "metadata": {
      "needs_background": "light"
     },
     "output_type": "display_data"
    }
   ],
   "source": [
    "z = plot_data_boundary(x, ybsall,[1,2],4)\n",
    "z"
   ]
  },
  {
   "cell_type": "markdown",
   "metadata": {},
   "source": [
    "__A4.__ _(3 pts)_ Now, for any point $x$ on the line defined by $w$ and $b$, the following relationship holds:\n",
    "$$\n",
    "w\\cdot x + b = 0\n",
    "$$\n",
    "\n",
    "But our points probably don't lie exactly on a line. To tell which sides of the line they fall on, we can just look at the sign the left hand side of the equation above:\n",
    "\n",
    "- $x$ is above the line:\n",
    "    - $\\hat{y} = w\\cdot x_i + b > 0$ \n",
    "- $x$ is below the line:\n",
    "    - $\\hat{y} = w\\cdot x_i + b < 0$\n",
    "\n",
    "What we're hoping to do is have all $x$'s either have $y,\\hat{y} < 0$ or $y,\\hat{y} > 0$. One way to test if a point is 'correctly' separated is if $y\\hat{y} > 0$, so use this test ($y\\hat{y} > 0$ means 'separated') to write a function called \n",
    "- `separated(data, y, w, b)`\n",
    "\n",
    "that outputs a boolean mask of $n$ values where `True` corresponds to a point falling on the correct side of the line ($y\\hat{y} > 0$). When this is done, use your functon to calculate/report the percent of points your line correctly separated below."
   ]
  },
  {
   "cell_type": "code",
   "execution_count": 13,
   "metadata": {},
   "outputs": [],
   "source": [
    "def separated(data,y,w,b):\n",
    "    v = data.as_matrix()\n",
    "    yhatt = data.dot(w)+b\n",
    "    x = yhatt*y > 0\n",
    "    return x"
   ]
  },
  {
   "cell_type": "code",
   "execution_count": 14,
   "metadata": {},
   "outputs": [
    {
     "name": "stderr",
     "output_type": "stream",
     "text": [
      "C:\\Users\\Beth\\Anaconda3\\lib\\site-packages\\ipykernel_launcher.py:2: FutureWarning: Method .as_matrix will be removed in a future version. Use .values instead.\n",
      "  \n"
     ]
    },
    {
     "data": {
      "text/plain": [
       "0.71875"
      ]
     },
     "execution_count": 14,
     "metadata": {},
     "output_type": "execute_result"
    }
   ],
   "source": [
    "a= separated(x, ybsall,[1,2],2)\n",
    "#t = [istrue for istrue in a if istrue == True]\n",
    "sum(a)/len(a)"
   ]
  },
  {
   "cell_type": "markdown",
   "metadata": {},
   "source": [
    "__A5.__ _(3 pts)_ Now that we have our `separated()` function, use it to modify your `plot_data_boundary()` function into a new one called:\n",
    "- plot_separated(data, y, w, b)\n",
    "\n",
    "which plots the same points and line as before, but now color codes them for _correctness of separation_ as well label. In particular, organize your points as follows:\n",
    "- indicate correctly separated negative points (shortstops) with black circles, \n",
    "- indicate incorrectly separated negative points (shortstops) with green triangles, \n",
    "- indicate correctly separated positive points (catchers) with red squares, and\n",
    "- indicate incorrectly separated positive points (catchers) with yellow diamonds."
   ]
  },
  {
   "cell_type": "code",
   "execution_count": 56,
   "metadata": {},
   "outputs": [],
   "source": [
    "#  is_sep = separated(data, y, w, b)\n",
    "#     not_sep = np.logical_not(is_sep)\n",
    "\n",
    "def plot_separated(data,y,w,b):\n",
    "    scat_fig = plt.figure(figsize = (6, 6))\n",
    "    plt.plot(data.iloc[y==1,0],data.iloc[y==1,1],'rs', label = 'Catcher')\n",
    "    plt.plot(data.iloc[y==-1,0],data.iloc[y==-1,1],'ko', label = 'Shortstop')\n",
    "    plt.plot(data.iloc[y==1,0],data.iloc[y==1,1],'g^', label = 'Catcher')\n",
    "    plt.plot(data.iloc[y==-1,0],data.iloc[y==-1,1],'yd', label = 'Shortstop')\n",
    "  \n",
    "    \n"
   ]
  },
  {
   "cell_type": "code",
   "execution_count": 57,
   "metadata": {},
   "outputs": [
    {
     "data": {
      "image/png": "[encoded data removed]",
      "text/plain": [
       "<Figure size 432x432 with 1 Axes>"
      ]
     },
     "metadata": {
      "needs_background": "light"
     },
     "output_type": "display_data"
    }
   ],
   "source": [
    "plot_separated(x,ybsall,[1,2],2)"
   ]
  },
  {
   "cell_type": "markdown",
   "metadata": {},
   "source": [
    "__A6.__ _(5 pts)_ Now, most of all we'll want to reduce the number of points $x$ for which our prediction $\\hat{y}$ has a different sign from the true label $y$. In these (bad) cases, one will have $y\\hat{y} < 0$.\n",
    "\n",
    "However, 'edge cases' are bad, too, and since we've provided our points with unit ($y = \\pm 1$) labels it's also important to pay attention to points whose prediction have correct sign ($y\\hat{y} > 0$), but are close to the boundary (here, within one unit):\n",
    "\n",
    "$$\n",
    "y(w\\cdot x + b) = y\\hat{y} < 1\n",
    "$$\n",
    "\n",
    "Thus, our objective function will seek to _maximize_ the distance between our $(w,b)$ separating line (plane) and 'bad' points holding the relationship $y(w\\cdot x + b) = y\\hat{y} < 1$. So, for a given plane $(w,b)$ and $n$ `data` points $x_i: i=1,\\cdots n$, we'll be working with a subset of $k$ 'bad' points: $x_{i_\\ell}:\\ell=1,\\cdots k$. To identify these, write a function:\n",
    "\n",
    "- `bad_points(data, y, w, b)`\n",
    "\n",
    "that takes `data` of $n$ rows and $m$ columns/features, line-defining parameters $w$ (a vector of $m$) and $b$ (a scalar), and outputs a boolean mask positively identifying the 'bad points' using a boolean mask, i.e., those for which:\n",
    "\n",
    "$$\n",
    "y(w\\cdot x + b) = y\\hat{y} < 1\n",
    "$$\n",
    "\n",
    "Note: this function is very similar to the requested `separated()` in __A4__.\n",
    "\n",
    "When this is complete, exhibit this function's output using the line you selected in __A3__."
   ]
  },
  {
   "cell_type": "code",
   "execution_count": 17,
   "metadata": {},
   "outputs": [
    {
     "data": {
      "text/plain": [
       "0       False\n",
       "1       False\n",
       "2       False\n",
       "6        True\n",
       "35      False\n",
       "        ...  \n",
       "969     False\n",
       "974     False\n",
       "1002    False\n",
       "1003    False\n",
       "1008    False\n",
       "Length: 128, dtype: bool"
      ]
     },
     "execution_count": 17,
     "metadata": {},
     "output_type": "execute_result"
    }
   ],
   "source": [
    "def bad_points(data, y, w, b):\n",
    "    return y * (data.dot(np.array(w))+b) < 1\n",
    "bad_points(x,ybsall,[1,2],3)"
   ]
  },
  {
   "cell_type": "markdown",
   "metadata": {},
   "source": [
    "__A7.__ _(4 pts)_ \"How bad\" a point is, is defined by distance&mdash;between our line (hyperplane) and the point. For a given point $x$ and line defined by $w$ and $b$, the distance is:\n",
    "$$\n",
    "d(x;w, b) = \\frac{|w\\cdot x + b|}{\\|w\\|}\n",
    "$$\n",
    "But since being on the wrong side (having the wrong sign) is extra bad, it's actually the signed distances we care about:\n",
    "$$\n",
    "d(x;w, b)_\\text{sgn} =\\frac{y(w\\cdot x + b)}{\\|w\\|}\n",
    "$$\n",
    "This makes the sum of signed distances for the 'bad points' we've found into our objective function, which we'll aim to maximize:\n",
    "$$\n",
    "\\begin{align*}\n",
    "   D (X; w, b) \n",
    "   = &\\sum_{\\ell=1}^k d_\\text{sgn}(x_{i_\\ell};w, b) \\\\\n",
    "   = &\\sum_{\\ell=1}^k \\frac{y_{i_\\ell}(w\\cdot x_{i_\\ell}+ b)}{\\|w\\|}\n",
    "\\end{align*}\n",
    "$$\n",
    "\n",
    "Since this is our objective function, express it's gradient components with respect to the parameters $b$ and $w_j$ (for any $j$ of the $m$ features) in the response box below."
   ]
  },
  {
   "cell_type": "markdown",
   "metadata": {},
   "source": [
    "_Response_.\n",
    "$$\n",
    "\\nabla_b(D) = \\frac{1}{\\|w\\|} \\sum_{\\ell=1}^k (y_{i_\\ell})\n",
    "$$\n",
    "$$\n",
    "\\nabla_{w_j}(D) = \\frac{1}{\\|w\\|} \\sum_{\\ell=1}^k (y_{i_\\ell}x_{i_\\ell})\n",
    "$$"
   ]
  },
  {
   "cell_type": "code",
   "execution_count": null,
   "metadata": {},
   "outputs": [],
   "source": [
    "\n"
   ]
  },
  {
   "cell_type": "markdown",
   "metadata": {},
   "source": [
    "__A7.__ _(5 pts)_ Now that we have a formula for our gradient, it's time to write a function that computes it for an arbitrary set of points and plane. Use your above formulae to write a function:\n",
    "\n",
    "- `gradient(data, y, w , b)`\n",
    "\n",
    "that takes $w$, $b$, and a `data` matrix of $x_i$ rows, and computes the gradient for the $m + 1$ parameters.\n",
    "\n",
    "When complete, exhibit this function's output using the line you exhibited in __A3__."
   ]
  },
  {
   "cell_type": "code",
   "execution_count": 18,
   "metadata": {},
   "outputs": [
    {
     "data": {
      "text/html": [
       "<div>\n",
       "<style scoped>\n",
       "    .dataframe tbody tr th:only-of-type {\n",
       "        vertical-align: middle;\n",
       "    }\n",
       "\n",
       "    .dataframe tbody tr th {\n",
       "        vertical-align: top;\n",
       "    }\n",
       "\n",
       "    .dataframe thead th {\n",
       "        text-align: right;\n",
       "    }\n",
       "</style>\n",
       "<table border=\"1\" class=\"dataframe\">\n",
       "  <thead>\n",
       "    <tr style=\"text-align: right;\">\n",
       "      <th></th>\n",
       "      <th>Height</th>\n",
       "      <th>Weight</th>\n",
       "    </tr>\n",
       "  </thead>\n",
       "  <tbody>\n",
       "    <tr>\n",
       "      <td>0</td>\n",
       "      <td>0.890083</td>\n",
       "      <td>-0.848435</td>\n",
       "    </tr>\n",
       "    <tr>\n",
       "      <td>1</td>\n",
       "      <td>0.890083</td>\n",
       "      <td>1.051109</td>\n",
       "    </tr>\n",
       "    <tr>\n",
       "      <td>2</td>\n",
       "      <td>-0.216040</td>\n",
       "      <td>0.779746</td>\n",
       "    </tr>\n",
       "    <tr>\n",
       "      <td>6</td>\n",
       "      <td>-1.875224</td>\n",
       "      <td>0.725473</td>\n",
       "    </tr>\n",
       "    <tr>\n",
       "      <td>35</td>\n",
       "      <td>1.443145</td>\n",
       "      <td>2.679290</td>\n",
       "    </tr>\n",
       "    <tr>\n",
       "      <td>...</td>\n",
       "      <td>...</td>\n",
       "      <td>...</td>\n",
       "    </tr>\n",
       "    <tr>\n",
       "      <td>969</td>\n",
       "      <td>-0.216040</td>\n",
       "      <td>1.485291</td>\n",
       "    </tr>\n",
       "    <tr>\n",
       "      <td>974</td>\n",
       "      <td>-1.875224</td>\n",
       "      <td>-1.119798</td>\n",
       "    </tr>\n",
       "    <tr>\n",
       "      <td>1002</td>\n",
       "      <td>-0.216040</td>\n",
       "      <td>0.671201</td>\n",
       "    </tr>\n",
       "    <tr>\n",
       "      <td>1003</td>\n",
       "      <td>-0.769101</td>\n",
       "      <td>1.593836</td>\n",
       "    </tr>\n",
       "    <tr>\n",
       "      <td>1008</td>\n",
       "      <td>-2.981347</td>\n",
       "      <td>-1.662525</td>\n",
       "    </tr>\n",
       "  </tbody>\n",
       "</table>\n",
       "<p>128 rows × 2 columns</p>\n",
       "</div>"
      ],
      "text/plain": [
       "        Height    Weight\n",
       "0     0.890083 -0.848435\n",
       "1     0.890083  1.051109\n",
       "2    -0.216040  0.779746\n",
       "6    -1.875224  0.725473\n",
       "35    1.443145  2.679290\n",
       "...        ...       ...\n",
       "969  -0.216040  1.485291\n",
       "974  -1.875224 -1.119798\n",
       "1002 -0.216040  0.671201\n",
       "1003 -0.769101  1.593836\n",
       "1008 -2.981347 -1.662525\n",
       "\n",
       "[128 rows x 2 columns]"
      ]
     },
     "execution_count": 18,
     "metadata": {},
     "output_type": "execute_result"
    }
   ],
   "source": [
    "x"
   ]
  },
  {
   "cell_type": "code",
   "execution_count": 19,
   "metadata": {
    "scrolled": false
   },
   "outputs": [
    {
     "name": "stderr",
     "output_type": "stream",
     "text": [
      "C:\\Users\\Beth\\Anaconda3\\lib\\site-packages\\ipykernel_launcher.py:1: FutureWarning: Method .as_matrix will be removed in a future version. Use .values instead.\n",
      "  \"\"\"Entry point for launching an IPython kernel.\n"
     ]
    },
    {
     "data": {
      "text/plain": [
       "(array([-6.53123330149088, 1.721379416514338], dtype=object),\n",
       " array([-9.83869910099908], dtype=object))"
      ]
     },
     "execution_count": 19,
     "metadata": {},
     "output_type": "execute_result"
    }
   ],
   "source": [
    "x_mat = x.as_matrix()\n",
    "def gradient(data,y,w,b):\n",
    "    norm = np.linalg.norm(w)\n",
    "    b_point = bad_points(data, y, w, b)\n",
    "    g_b = sum(y[:,None][b_point]/norm)\n",
    "    g_w = sum((data * y[:,None])[b_point])/norm\n",
    "    return g_w,g_b\n",
    "    \n",
    "gradient(x_mat,ybsall,[1,2],2)\n",
    "    "
   ]
  },
  {
   "cell_type": "code",
   "execution_count": null,
   "metadata": {},
   "outputs": [],
   "source": []
  },
  {
   "cell_type": "markdown",
   "metadata": {},
   "source": [
    "__A8.__ _(10 pts)_ Finally, it's time to pull things together into a gradient descent application. Specifically, create a function called \n",
    "- `GD(data, y, w, b, eta=0.001, iter_num=1000, threshold=0.001)`\n",
    "that accepts the following arguments:\n",
    "\n",
    "- `data`: a matrix of $n$ row/data points by $m$ feature/columns\n",
    "- `y`:  an array of $n$ $\\pm 1$ valued 'labels'\n",
    "- `w`, `b`: an array of initial weights and an intercept (initial parameters) \n",
    "- `eta=0.001`: the 'learning rate' i.e., 'sensitivity' knob\n",
    "- `iter_num=1000`: the max number of gradient steps to take before termnating\n",
    "- `threshold=0.001`: a fixed, minimum distance that when steps fall below terminates the algorithm\n",
    "\n",
    "To correctly implement, your code must do the following:\n",
    "1. loop over `iter_num` steps\n",
    "2. compute $w$ and $b$ gradient components\n",
    "3. determinie $w$ and $b$ steps sizes\n",
    "4. update $w$ and $b$ by _adding_ gradient components (this is technically ascent)\n",
    "5. terminate if `iter_num` steps are complete or if the most recent step is smaller than `threshold`\n",
    "6. `return` a list of the history of $w$ and $b$ values\n",
    "\n",
    "When this is complete, apply your code to the standardized `bball` data and labels starting with your selected line from __A3__, and print the final parameters and whether or not your code converged, i.e., the threshold was met."
   ]
  },
  {
   "cell_type": "code",
   "execution_count": 30,
   "metadata": {},
   "outputs": [],
   "source": [
    "# formual for this one np.sqrt(Wstep.dot(Wstep) + Bstep^2) < threshold\n",
    "def GD(data, y,w,b,eta=0.001,iter_num=1000, threshold=0.001):\n",
    "    w_hist = []\n",
    "    b_hist = []\n",
    "    \n",
    "    for i in range(iter_num):\n",
    "        g_w,g_b = gradient(data,y,w,b)\n",
    "        next_w = w + g_w*eta\n",
    "        next_b = b + g_b*eta\n",
    "        stepw = next_w - w\n",
    "        stepb = next_b - b\n",
    "        w_hist.append(next_w)\n",
    "        b_hist.append(next_b)\n",
    "        if (stepw.dot(stepw) + stepb)*(stepw.dot(stepw) + stepb) < threshold:\n",
    "            break\n",
    "        else:\n",
    "            w= next_w\n",
    "            b= next_b\n",
    "    return w_hist, b_hist"
   ]
  },
  {
   "cell_type": "code",
   "execution_count": 32,
   "metadata": {},
   "outputs": [
    {
     "data": {
      "text/plain": [
       "(array([0.23881026060504015, 1.7156589406286193], dtype=object),\n",
       " array([1.2806794580633323], dtype=object))"
      ]
     },
     "execution_count": 32,
     "metadata": {},
     "output_type": "execute_result"
    }
   ],
   "source": [
    "w_hist, b_hist = GD(x_mat,ybsall,[.5,1.5],2,0.001,900,0.0001)\n",
    "w_hist[-1],b_hist[-1]"
   ]
  },
  {
   "cell_type": "markdown",
   "metadata": {},
   "source": [
    "__A9.__ _(3 pts)_ Now, exhibit the final (best line) from your application in __A7__ using your `plot_separated()` function, report it's percent separated, and discuss if you think the line forms a better separation than the original line in the comment box below."
   ]
  },
  {
   "cell_type": "markdown",
   "metadata": {},
   "source": [
    "_Response._ "
   ]
  },
  {
   "cell_type": "code",
   "execution_count": 53,
   "metadata": {},
   "outputs": [
    {
     "name": "stderr",
     "output_type": "stream",
     "text": [
      "C:\\Users\\Beth\\Anaconda3\\lib\\site-packages\\ipykernel_launcher.py:2: FutureWarning: Method .as_matrix will be removed in a future version. Use .values instead.\n",
      "  \n"
     ]
    },
    {
     "data": {
      "text/plain": [
       "0.734375"
      ]
     },
     "execution_count": 53,
     "metadata": {},
     "output_type": "execute_result"
    }
   ],
   "source": [
    "a= separated(x, ybsall,w_hist[-1],b_hist[-1])\n",
    "sum(a)/len(a)\n"
   ]
  },
  {
   "cell_type": "code",
   "execution_count": null,
   "metadata": {},
   "outputs": [],
   "source": []
  },
  {
   "cell_type": "markdown",
   "metadata": {},
   "source": [
    "__A10.__ (5 pts) As a last step, modify `plot_data_boundary()` again, but now into a new function called `plot_convergence()` that accepts the full history of `ws` and `bs` that were output by you `GD` function in __A7.__ and exhibits all lines corresponding to the steps along the way to convergence. Use the output of this code to discuss in the comment box below if you believe your code is converging towards a good-separating solution.\n",
    "\n",
    "\\[Hint. Use changing alpha or a colormap to help illustrate thr transition between values of $w$ and $b$\\]."
   ]
  },
  {
   "cell_type": "markdown",
   "metadata": {},
   "source": [
    "$$\n",
    "x_2 = -\\frac{w_1}{w_2} x_1 - \\frac{b}{w_2}\n",
    "$$"
   ]
  },
  {
   "cell_type": "code",
   "execution_count": 47,
   "metadata": {},
   "outputs": [],
   "source": [
    "def plot_convergence(data, y,w,b,eta=0.001,iter_num=1000, threshold=0.001):\n",
    "    for i, value in enumerate(w):\n",
    "        plt.plot(data.iloc[:,0], (w[i][0]/w[i][1]*data.iloc[:,0]-(b[i]/w[i][1])),'b', alpha = .05)\n",
    "    plt.plot(data.iloc[y==1,0],data.iloc[y==1,1],'rs', label = 'Catcher')\n",
    "    plt.plot(data.iloc[y==-1,0],data.iloc[y==-1,1],'ko', label = 'Shortstop')\n",
    "    plt.legend()\n",
    "    plt.xlabel('Standardized Heights')\n",
    "    plt.ylabel('Standardized Weights')\n",
    "    plt.title('Heights and Weights of S.S and Catchers')\n",
    "    "
   ]
  },
  {
   "cell_type": "code",
   "execution_count": 48,
   "metadata": {},
   "outputs": [
    {
     "data": {
      "image/png": "[encoded data removed]",
      "text/plain": [
       "<Figure size 432x288 with 1 Axes>"
      ]
     },
     "metadata": {
      "needs_background": "light"
     },
     "output_type": "display_data"
    }
   ],
   "source": [
    "plot_convergence(x,ybsall,w_hist,b_hist,0.001,900,0.0001)"
   ]
  }
 ],
 "metadata": {
  "kernelspec": {
   "display_name": "Python 3",
   "language": "python",
   "name": "python3"
  },
  "language_info": {
   "codemirror_mode": {
    "name": "ipython",
    "version": 3
   },
   "file_extension": ".py",
   "mimetype": "text/x-python",
   "name": "python",
   "nbconvert_exporter": "python",
   "pygments_lexer": "ipython3",
   "version": "3.7.4"
  }
 },
 "nbformat": 4,
 "nbformat_minor": 2
}
